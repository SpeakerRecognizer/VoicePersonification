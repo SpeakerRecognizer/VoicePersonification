{
 "cells": [
  {
   "cell_type": "code",
   "execution_count": 1,
   "metadata": {},
   "outputs": [],
   "source": [
    "import sys\n",
    "sys.path.append(\"../\")\n",
    "\n",
    "%load_ext autoreload\n",
    "%autoreload 2"
   ]
  },
  {
   "cell_type": "code",
   "execution_count": 15,
   "metadata": {},
   "outputs": [],
   "source": [
    "import torchaudio\n",
    "\n",
    "from VoicePersonification.models import (\n",
    "    ITMOPersonificationModelSegmentation,\n",
    "    ECAPATDNNModel\n",
    ")"
   ]
  },
  {
   "cell_type": "code",
   "execution_count": null,
   "metadata": {},
   "outputs": [],
   "source": [
    "enroll_fpath = \"./examples/id10289-3g9CjhcNEWk-00009.wav\"\n",
    "test_fpath = \"./examples/id10277-znxUWA2QAGs-00001.wav\"\n",
    "\n",
    "def load_wav_and_apply_vad(fpath: str, target_sample_rate: int = 16_000):\n",
    "    wav, sr = torchaudio.load(fpath)\n",
    "\n",
    "    if wav.shape[0] != 1:\n",
    "        wav = wav[:1]\n",
    "\n",
    "    if sr != target_sample_rate:\n",
    "        wav = torchaudio.functional.resample(wav, sr, target_sample_rate)\n",
    "\n",
    "    wav = torchaudio.functional.vad(wav, target_sample_rate)\n",
    "\n",
    "    return wav\n",
    "\n",
    "enroll_wav = load_wav_and_apply_vad(enroll_fpath)\n",
    "test_wav = load_wav_and_apply_vad(test_fpath)\n",
    "\n",
    "itmo_segmetation_model = ITMOPersonificationModelSegmentation()\n",
    "baseline_model = ECAPATDNNModel()"
   ]
  },
  {
   "cell_type": "code",
   "execution_count": 22,
   "metadata": {},
   "outputs": [
    {
     "name": "stdout",
     "output_type": "stream",
     "text": [
      "\n",
      "similarity \n",
      "score1=-0.0911\n",
      "baseline_score=-0.0490\n",
      "\n"
     ]
    }
   ],
   "source": [
    "score1 = itmo_segmetation_model.verify(enroll_wav, test_wav)\n",
    "baseline_score = baseline_model.verify(enroll_wav, test_wav)\n",
    "print(f\"\"\"\n",
    "similarity \n",
    "{score1=:.4f}\n",
    "{baseline_score=:.4f}\n",
    "\"\"\")"
   ]
  },
  {
   "cell_type": "code",
   "execution_count": null,
   "metadata": {},
   "outputs": [],
   "source": []
  }
 ],
 "metadata": {
  "kernelspec": {
   "display_name": ".vgenv",
   "language": "python",
   "name": "python3"
  },
  "language_info": {
   "codemirror_mode": {
    "name": "ipython",
    "version": 3
   },
   "file_extension": ".py",
   "mimetype": "text/x-python",
   "name": "python",
   "nbconvert_exporter": "python",
   "pygments_lexer": "ipython3",
   "version": "3.8.0"
  }
 },
 "nbformat": 4,
 "nbformat_minor": 2
}
